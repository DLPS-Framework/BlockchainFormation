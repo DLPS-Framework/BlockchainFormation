{
 "cells": [
  {
   "cell_type": "markdown",
   "metadata": {},
   "source": [
    "# Getting Started with boto on AWS\n",
    "\n",
    "In the first step we need to import all required packages and modules into the Python Path"
   ]
  },
  {
   "cell_type": "code",
   "execution_count": 1,
   "metadata": {
    "ExecuteTime": {
     "end_time": "2017-12-28T17:59:21.386383Z",
     "start_time": "2017-12-28T17:59:21.364643Z"
    }
   },
   "outputs": [],
   "source": [
    "# System Libraries\n",
    "import sys, os\n",
    "sys.path.append(\"..\")\n",
    "import pandas as pd\n",
    "\n",
    "## logging\n",
    "import logging\n",
    "logging.basicConfig(level=logging.DEBUG)\n",
    "logging.getLogger().setLevel(logging.ERROR)\n",
    "logging.getLogger(\"py4j\").setLevel(logging.ERROR)\n",
    " \n",
    "import os\n",
    "import json\n",
    "\n",
    "import boto3\n",
    "from botocore.config import Config\n",
    "boto3.setup_default_session(profile_name='blockchain')"
   ]
  },
  {
   "cell_type": "markdown",
   "metadata": {},
   "source": [
    "# 3. EC2"
   ]
  },
  {
   "cell_type": "code",
   "execution_count": 2,
   "metadata": {},
   "outputs": [],
   "source": [
    "os.environ[\"HTTPS_PROXY\"]=\"https://proxy.ccc.eu-central-1.aws.cloud.bmw:8080\"\n",
    "os.environ[\"HTTP_PROXY\"]=\"http://proxy.ccc.eu-central-1.aws.cloud.bmw:8080\"\n",
    "\n",
    "ec2_client = boto3.resource('ec2', region_name='eu-central-1')\n",
    "ec2_description =  {\n",
    "    \"number_vms\" : 1,\n",
    "    \"ec2_ssh_username\":\"ubuntu\",\n",
    "    \"ec2_ssh_keyname\":\"blockchain\",\n",
    "    \"ec2_ssh_keyfile\":os.path.join(os.environ[\"HOME\"], \".aws/blockchain/blockchain\"),    \n",
    "    \"ec2_vpc_id\" : \"vpc-0372565c41602fcad\",   \n",
    "    \"ec2_subnet_id\": \"subnet-075e7cd32d7c07a67\",\n",
    "    \"ec2_image_id\" : \"ami-090f10efc254eaf55\", \n",
    "    \"ec2_security_group\": \"sg-06af921573efee0f9\",\n",
    "    \"ec2_instance_type\" : \"t2.nano\",\n",
    "    \"ec2_name\": \"blockchain-1\", \n",
    "    \"type\":\"ec2\"\n",
    "}\n",
    "\n",
    "ec2_instances = ec2_client.create_instances(ImageId=ec2_description[\"ec2_image_id\"],\n",
    "                                            InstanceType=ec2_description[\"ec2_instance_type\"],\n",
    "                                            KeyName=ec2_description[\"ec2_ssh_keyname\"],\n",
    "                                            SubnetId=ec2_description[\"ec2_subnet_id\"],\n",
    "                                            SecurityGroupIds=[ec2_description[\"ec2_security_group\"]],\n",
    "                                            TagSpecifications=[{'ResourceType': 'instance',\n",
    "                                                                'Tags': [{\"Key\":\"Name\", \n",
    "                                                                          \"Value\":ec2_description[\"ec2_name\"]}]}],\n",
    "                                            MinCount=ec2_description[\"number_vms\"], \n",
    "                                            MaxCount=ec2_description[\"number_vms\"])"
   ]
  },
  {
   "cell_type": "code",
   "execution_count": 3,
   "metadata": {},
   "outputs": [
    {
     "name": "stdout",
     "output_type": "stream",
     "text": [
      "ID: i-00e4129e3cffa8978, State: running, IP: 10.6.49.169 \n"
     ]
    }
   ],
   "source": [
    "ips=[]\n",
    "for i in ec2_instances:\n",
    "    i.wait_until_running()\n",
    "    i.load()\n",
    "    print(\"ID: {}, State: {}, IP: {} \".format(i.id, i.state['Name'], i.private_ip_address))\n",
    "    ips.append(i.private_ip_address)"
   ]
  },
  {
   "cell_type": "code",
   "execution_count": null,
   "metadata": {},
   "outputs": [],
   "source": [
    "cmd = \"ssh -o StrictHostKeyChecking=no -i  {} -l {} {} /bin/hostname\".format(ec2_description[\"ec2_ssh_keyfile\"], ec2_description[\"ec2_ssh_username\"], ips[0])\n",
    "print(cmd)\n",
    "!{cmd}"
   ]
  },
  {
   "cell_type": "code",
   "execution_count": 5,
   "metadata": {},
   "outputs": [],
   "source": [
    "for i in ec2_instances:\n",
    "    i.terminate()"
   ]
  },
  {
   "cell_type": "code",
   "execution_count": 17,
   "metadata": {},
   "outputs": [
    {
     "name": "stdout",
     "output_type": "stream",
     "text": [
      "{'Code': 80, 'Name': 'stopped'}\n",
      "{'Code': 80, 'Name': 'stopped'}\n",
      "{'Code': 16, 'Name': 'running'}\n",
      "{'Code': 16, 'Name': 'running'}\n",
      "{'Code': 16, 'Name': 'running'}\n",
      "{'Code': 80, 'Name': 'stopped'}\n",
      "{'Code': 80, 'Name': 'stopped'}\n",
      "{'Code': 80, 'Name': 'stopped'}\n",
      "{'Code': 16, 'Name': 'running'}\n",
      "{'Code': 80, 'Name': 'stopped'}\n",
      "{'Code': 80, 'Name': 'stopped'}\n",
      "{'Code': 80, 'Name': 'stopped'}\n",
      "{'Code': 80, 'Name': 'stopped'}\n",
      "{'Code': 80, 'Name': 'stopped'}\n",
      "{'Code': 80, 'Name': 'stopped'}\n",
      "{'Code': 80, 'Name': 'stopped'}\n",
      "{'Code': 80, 'Name': 'stopped'}\n",
      "{'Code': 80, 'Name': 'stopped'}\n",
      "{'Code': 80, 'Name': 'stopped'}\n",
      "{'Code': 80, 'Name': 'stopped'}\n",
      "{'Code': 32, 'Name': 'shutting-down'}\n",
      "{'Code': 80, 'Name': 'stopped'}\n",
      "{'Code': 80, 'Name': 'stopped'}\n",
      "{'Code': 16, 'Name': 'running'}\n",
      "{'Code': 80, 'Name': 'stopped'}\n",
      "{'Code': 80, 'Name': 'stopped'}\n",
      "{'Code': 80, 'Name': 'stopped'}\n",
      "{'Code': 80, 'Name': 'stopped'}\n",
      "{'Code': 80, 'Name': 'stopped'}\n",
      "{'Code': 80, 'Name': 'stopped'}\n",
      "{'Code': 80, 'Name': 'stopped'}\n",
      "{'Code': 80, 'Name': 'stopped'}\n",
      "{'Code': 80, 'Name': 'stopped'}\n",
      "{'Code': 80, 'Name': 'stopped'}\n",
      "{'Code': 80, 'Name': 'stopped'}\n",
      "{'Code': 80, 'Name': 'stopped'}\n",
      "{'Code': 80, 'Name': 'stopped'}\n",
      "{'Code': 80, 'Name': 'stopped'}\n",
      "{'Code': 80, 'Name': 'stopped'}\n",
      "{'Code': 80, 'Name': 'stopped'}\n",
      "{'Code': 80, 'Name': 'stopped'}\n",
      "{'Code': 80, 'Name': 'stopped'}\n",
      "{'Code': 16, 'Name': 'running'}\n",
      "{'Code': 80, 'Name': 'stopped'}\n",
      "{'Code': 80, 'Name': 'stopped'}\n",
      "{'Code': 16, 'Name': 'running'}\n",
      "{'Code': 16, 'Name': 'running'}\n"
     ]
    }
   ],
   "source": [
    "for i in ec2_client.instances.all():\n",
    "    print(i.state)"
   ]
  }
 ],
 "metadata": {
  "kernelspec": {
   "display_name": "Python [conda env:blockchain_py36]",
   "language": "python",
   "name": "conda-env-blockchain_py36-py"
  },
  "language_info": {
   "codemirror_mode": {
    "name": "ipython",
    "version": 3
   },
   "file_extension": ".py",
   "mimetype": "text/x-python",
   "name": "python",
   "nbconvert_exporter": "python",
   "pygments_lexer": "ipython3",
   "version": "3.7.1"
  },
  "toc": {
   "toc_cell": false,
   "toc_number_sections": true,
   "toc_threshold": 6,
   "toc_window_display": false
  }
 },
 "nbformat": 4,
 "nbformat_minor": 2
}
